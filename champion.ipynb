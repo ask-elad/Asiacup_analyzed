{
 "cells": [
  {
   "cell_type": "code",
   "execution_count": 10,
   "metadata": {},
   "outputs": [
    {
     "name": "stdout",
     "output_type": "stream",
     "text": [
      "   Year Predicted Champion\n",
      "0  2022          Sri Lanka\n"
     ]
    },
    {
     "name": "stderr",
     "output_type": "stream",
     "text": [
      "/tmp/ipykernel_93938/3097953384.py:15: SettingWithCopyWarning: \n",
      "A value is trying to be set on a copy of a slice from a DataFrame.\n",
      "Try using .loc[row_indexer,col_indexer] = value instead\n",
      "\n",
      "See the caveats in the documentation: https://pandas.pydata.org/pandas-docs/stable/user_guide/indexing.html#returning-a-view-versus-a-copy\n",
      "  train_data[column] = le.fit_transform(train_data[column])\n",
      "/tmp/ipykernel_93938/3097953384.py:16: SettingWithCopyWarning: \n",
      "A value is trying to be set on a copy of a slice from a DataFrame.\n",
      "Try using .loc[row_indexer,col_indexer] = value instead\n",
      "\n",
      "See the caveats in the documentation: https://pandas.pydata.org/pandas-docs/stable/user_guide/indexing.html#returning-a-view-versus-a-copy\n",
      "  test_data[column] = le.transform(test_data[column])\n",
      "/tmp/ipykernel_93938/3097953384.py:15: SettingWithCopyWarning: \n",
      "A value is trying to be set on a copy of a slice from a DataFrame.\n",
      "Try using .loc[row_indexer,col_indexer] = value instead\n",
      "\n",
      "See the caveats in the documentation: https://pandas.pydata.org/pandas-docs/stable/user_guide/indexing.html#returning-a-view-versus-a-copy\n",
      "  train_data[column] = le.fit_transform(train_data[column])\n",
      "/tmp/ipykernel_93938/3097953384.py:16: SettingWithCopyWarning: \n",
      "A value is trying to be set on a copy of a slice from a DataFrame.\n",
      "Try using .loc[row_indexer,col_indexer] = value instead\n",
      "\n",
      "See the caveats in the documentation: https://pandas.pydata.org/pandas-docs/stable/user_guide/indexing.html#returning-a-view-versus-a-copy\n",
      "  test_data[column] = le.transform(test_data[column])\n",
      "/tmp/ipykernel_93938/3097953384.py:15: SettingWithCopyWarning: \n",
      "A value is trying to be set on a copy of a slice from a DataFrame.\n",
      "Try using .loc[row_indexer,col_indexer] = value instead\n",
      "\n",
      "See the caveats in the documentation: https://pandas.pydata.org/pandas-docs/stable/user_guide/indexing.html#returning-a-view-versus-a-copy\n",
      "  train_data[column] = le.fit_transform(train_data[column])\n",
      "/tmp/ipykernel_93938/3097953384.py:16: SettingWithCopyWarning: \n",
      "A value is trying to be set on a copy of a slice from a DataFrame.\n",
      "Try using .loc[row_indexer,col_indexer] = value instead\n",
      "\n",
      "See the caveats in the documentation: https://pandas.pydata.org/pandas-docs/stable/user_guide/indexing.html#returning-a-view-versus-a-copy\n",
      "  test_data[column] = le.transform(test_data[column])\n"
     ]
    }
   ],
   "source": [
    "import pandas as pd\n",
    "from sklearn.linear_model import LogisticRegression\n",
    "from sklearn.preprocessing import LabelEncoder\n",
    "\n",
    "\n",
    "df = pd.read_csv('champion.csv')\n",
    "df.drop(['Player Of The Series', 'Highest Run Scorer', 'Highest Wicket Taker'], axis=1, inplace=True)# Create DataFrame\n",
    "\n",
    "train_data = df[df['Year'] < 2022]\n",
    "test_data = df[df['Year'] >= 2022]\n",
    "\n",
    "label_encoders = {}\n",
    "for column in ['Host', 'Champion', 'Runner Up']:\n",
    "    le = LabelEncoder()\n",
    "    train_data[column] = le.fit_transform(train_data[column])\n",
    "    test_data[column] = le.transform(test_data[column])\n",
    "    label_encoders[column] = le\n",
    "\n",
    "X_train = train_data.drop(['Year', 'Champion', 'Runner Up'], axis=1)\n",
    "y_train = train_data['Champion']\n",
    "\n",
    "X_test = test_data.drop(['Year', 'Champion', 'Runner Up'], axis=1)\n",
    "\n",
    "model = LogisticRegression()\n",
    "model.fit(X_train, y_train)\n",
    "\n",
    "predictions = model.predict(X_test)\n",
    "predicted_champions = label_encoders['Champion'].inverse_transform(predictions)\n",
    "\n",
    "\n",
    "predicted_results = pd.DataFrame({\n",
    "    'Year': test_data['Year'].values,\n",
    "    'Predicted Champion': predicted_champions\n",
    "})\n",
    "\n",
    "print(predicted_results)\n",
    "\n"
   ]
  },
  {
   "cell_type": "code",
   "execution_count": null,
   "metadata": {},
   "outputs": [],
   "source": []
  }
 ],
 "metadata": {
  "kernelspec": {
   "display_name": "Python 3",
   "language": "python",
   "name": "python3"
  },
  "language_info": {
   "codemirror_mode": {
    "name": "ipython",
    "version": 3
   },
   "file_extension": ".py",
   "mimetype": "text/x-python",
   "name": "python",
   "nbconvert_exporter": "python",
   "pygments_lexer": "ipython3",
   "version": "3.10.12"
  }
 },
 "nbformat": 4,
 "nbformat_minor": 2
}
